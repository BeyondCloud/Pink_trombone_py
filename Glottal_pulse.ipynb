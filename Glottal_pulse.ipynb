{
 "cells": [
  {
   "cell_type": "code",
   "execution_count": 243,
   "metadata": {},
   "outputs": [
    {
     "data": {
      "image/png": "[encoded data removed]",
      "text/plain": [
       "<Figure size 432x288 with 1 Axes>"
      ]
     },
     "metadata": {},
     "output_type": "display_data"
    }
   ],
   "source": [
    "from opensimplex import OpenSimplex\n",
    "simplex2 = OpenSimplex(seed=2)\n",
    "out = np.zeros((44100,))\n",
    "for i in range(len(out)):\n",
    "    out[i] = simplex2.noise2d(x=i*10/44100, y=i*10/44100)\n",
    "plt.plot(out)\n",
    "plt.show()\n",
    "def simplex1(t):\n",
    "    return simplex2.noise2d(x=t, y=t)"
   ]
  },
  {
   "cell_type": "code",
   "execution_count": 37,
   "metadata": {},
   "outputs": [
    {
     "data": {
      "text/plain": [
       "0.6077780360636319"
      ]
     },
     "execution_count": 37,
     "metadata": {},
     "output_type": "execute_result"
    }
   ],
   "source": [
    "random()"
   ]
  },
  {
   "cell_type": "code",
   "execution_count": 237,
   "metadata": {},
   "outputs": [
    {
     "name": "stdout",
     "output_type": "stream",
     "text": [
      "done\n"
     ]
    }
   ],
   "source": [
    "\n",
    "sampleRate = 44100\n",
    "time = 0;\n",
    "timeStep = 1.0 / sampleRate;\n",
    "alwaysVoice = True;\n",
    "autoWobble = True;\n",
    "noiseFreq = 500;\n",
    "noiseQ = 0.7;\n",
    "class Glottis():\n",
    "    def __init__(self):\n",
    "        self.timeInWaveform = 0\n",
    "        self.oldFrequency = 140\n",
    "        self.newFrequency = 140\n",
    "        self.UIFrequency = 140\n",
    "        self.smoothFrequency = 140\n",
    "        self.oldTenseness = 0.6\n",
    "        self.newTenseness = 0.6\n",
    "        self.UITenseness = 0.6\n",
    "        self.totalTime = 0\n",
    "        self.vibratoAmount = 0.0\n",
    "        self.vibratoFrequency = 0\n",
    "        self.intensity = 0\n",
    "        self.loudness = 1\n",
    "        self.isTouched = False\n",
    "        self.touch = 0\n",
    "        self.x = 240\n",
    "        self.y = 530\n",
    "        self.keyboardTop = 500\n",
    "        self.keyboardLeft = 0\n",
    "        self.keyboardWidth = 600\n",
    "        self.keyboardHeight = 100\n",
    "        self.semitones = 20\n",
    "        self.marks = [0, 0, 0, 1, 0, 0, 0, 0, 1, 0, 1, 0, 0, 0, 0]\n",
    "        self.baseNote = 87.3071\n",
    "        self.setupWaveform(0)\n",
    "        \n",
    "    def setupWaveform(self,Lambda):\n",
    "        self.frequency = self.oldFrequency*(1-Lambda) + self.newFrequency*Lambda;\n",
    "        tenseness = self.oldTenseness*(1-Lambda) + self.newTenseness*Lambda\n",
    "        self.Rd = 3*(1-tenseness)\n",
    "        self.waveformLength = 1.0/self.frequency\n",
    "        \n",
    "        Rd = self.Rd\n",
    "        if (Rd<0.5):\n",
    "            Rd = 0.5;\n",
    "        if (Rd>2.7):\n",
    "            Rd = 2.7;\n",
    "        Ra = -0.01 + 0.048*Rd;\n",
    "        Rk = 0.224 + 0.118*Rd;\n",
    "        Rg = (Rk/4)*(0.5+1.2*Rk)/(0.11*Rd-Ra*(0.5+1.2*Rk))\n",
    "        Ta = Ra;\n",
    "        Tp = 1 / (2*Rg)\n",
    "        Te = Tp + Tp*Rk\n",
    "        epsilon = 1/Ta;\n",
    "        shift = np.exp(-epsilon * (1-Te))\n",
    "        Delta = 1 - shift #divide by this to scale RHS\n",
    "        RHSIntegral = (1/epsilon)*(shift - 1) + (1-Te)*shift\n",
    "        totalLowerIntegral = - (Te-Tp)/2 + RHSIntegral\n",
    "        totalUpperIntegral = -totalLowerIntegral\n",
    "        omega = math.pi/Tp\n",
    "        s = math.sin(omega*Te)\n",
    "        y = -math.pi*s*totalUpperIntegral / (Tp*2)\n",
    "        z = math.log(y)\n",
    "        alpha = z/(Tp/2 - Te)\n",
    "        E0 = -1 / (s*math.exp(alpha*Te))\n",
    "        self.alpha = alpha;\n",
    "        self.E0 = E0;\n",
    "        self.epsilon = epsilon;\n",
    "        self.shift = shift;\n",
    "        self.Delta = Delta;\n",
    "        self.Te=Te;\n",
    "        self.omega = omega;\n",
    "    def normalizedLFWaveform(self,t):\n",
    "        if (t>self.Te):\n",
    "            output = (-math.exp(-self.epsilon * (t-self.Te)) + self.shift)/self.Delta;\n",
    "        else:\n",
    "            output = self.E0 * math.exp(self.alpha*t) * math.sin(self.omega * t);\n",
    "        return output * self.intensity * self.loudness;\n",
    "    \n",
    "    #Glottis\n",
    "    def runStep(self,Lambda,noiseSource):\n",
    "\n",
    "\n",
    "        self.timeInWaveform += timeStep;\n",
    "        self.totalTime += timeStep;\n",
    "        if (self.timeInWaveform>self.waveformLength):\n",
    "            self.timeInWaveform -= self.waveformLength;\n",
    "            self.setupWaveform(Lambda);\n",
    "\n",
    "        out = self.normalizedLFWaveform(self.timeInWaveform/self.waveformLength);\n",
    "        \n",
    "        aspiration = self.intensity*(1-math.sqrt(self.UITenseness))*\\\n",
    "                    self.getNoiseModulator()*noiseSource;\n",
    "        aspiration *= 0.2 + 0.02*random();\n",
    "        out += aspiration;\n",
    "        \n",
    "        return out\n",
    "    def finishBlock(self):\n",
    "        vibrato = 0;\n",
    "        vibrato += self.vibratoAmount * math.sin(2*math.pi * self.totalTime *self.vibratoFrequency);\n",
    "#         vibrato += 0.02 * noise.simplex1(self.totalTime * 4.07);\n",
    "#         vibrato += 0.04 * noise.simplex1(self.totalTime * 2.15);\n",
    "#         if (autoWobble):\n",
    "#             vibrato += 0.2 * noise.simplex1(self.totalTime * 0.98);\n",
    "#             vibrato += 0.4 * noise.simplex1(self.totalTime * 0.5);\n",
    "        if (self.UIFrequency>self.smoothFrequency):\n",
    "            self.smoothFrequency = math.min(self.smoothFrequency * 1.1, self.UIFrequency);\n",
    "        if (self.UIFrequency<self.smoothFrequency):\n",
    "            self.smoothFrequency = math.max(self.smoothFrequency / 1.1, self.UIFrequency);\n",
    "        self.oldFrequency = self.newFrequency;\n",
    "        self.newFrequency = self.smoothFrequency * (1+vibrato);\n",
    "        self.oldTenseness = self.newTenseness;\n",
    "        \n",
    "#         this will add fluctuation to voice , which is more natural\n",
    "        self.newTenseness = self.UITenseness+ 0.1*simplex1( self.totalTime )+\\\n",
    "                                                0.05*simplex1( self.totalTime );\n",
    "\n",
    "        if ((not self.isTouched) and alwaysVoice):\n",
    "            self.newTenseness += (3-self.UITenseness)*(1-self.intensity);\n",
    "        if (self.isTouched or alwaysVoice):\n",
    "            self.intensity += 0.13;\n",
    "        else:\n",
    "            self.intensity -= 0.05;\n",
    "        self.intensity = np.clip(self.intensity, 0, 1);\n",
    "    def getNoiseModulator(self):\n",
    "        voiced = 0.1+0.2*max(0,math.sin(math.pi*2*self.timeInWaveform/self.waveformLength));\n",
    "        return self.UITenseness* self.intensity * voiced + (1-self.UITenseness* self.intensity ) * 0.3;\n",
    "gt = Glottis()\n",
    "print('done')"
   ]
  },
  {
   "cell_type": "code",
   "execution_count": 213,
   "metadata": {},
   "outputs": [
    {
     "data": {
      "text/plain": [
       "0.17414965986396688"
      ]
     },
     "execution_count": 213,
     "metadata": {},
     "output_type": "execute_result"
    }
   ],
   "source": [
    "gt.totalTime"
   ]
  },
  {
   "cell_type": "code",
   "execution_count": 207,
   "metadata": {},
   "outputs": [
    {
     "name": "stdout",
     "output_type": "stream",
     "text": [
      "done\n"
     ]
    }
   ],
   "source": [
    "from random import random\n",
    "\n",
    "class Tract():\n",
    "\n",
    "    def __init__(self):\n",
    "        self.n = 44\n",
    "        self.bladeStart = 10\n",
    "        self.tipStart = 32\n",
    "        self.lipStart = 39\n",
    "        self.glottalReflection = 0.75\n",
    "        self.lipReflection = -0.85\n",
    "        self.lastObstruction = -1\n",
    "        self.fade = 1.0\n",
    "        self.movementSpeed = 15 \n",
    "        self.transients = []\n",
    "        self.lipOutput = 0\n",
    "        self.noseOutput = 0\n",
    "        self.velumTarget = 0.01\n",
    "        \n",
    "        self.bladeStart = math.floor(self.bladeStart*self.n/44);\n",
    "        self.tipStart = math.floor(self.tipStart*self.n/44);\n",
    "        self.lipStart = math.floor(self.lipStart*self.n/44);\n",
    "        self.diameter = np.zeros((self.n,));\n",
    "        self.restDiameter =np.zeros((self.n,));\n",
    "        self.targetDiameter = np.zeros((self.n,));\n",
    "        self.newDiameter = np.zeros((self.n,));\n",
    "        self.fricative_intensity = 1.0\n",
    "        \n",
    "        for i in range(self.n):\n",
    "            diameter = 0;\n",
    "            if (i<7*self.n/44-0.5):\n",
    "                diameter = 0.6;  #nearest to glottis\n",
    "            elif (i<12*self.n/44):\n",
    "                diameter = 1.1; #2nd nearest\n",
    "            else:\n",
    "                diameter = 1.5;\n",
    "            self.diameter[i] = self.restDiameter[i] = self.targetDiameter[i] = self.newDiameter[i] = diameter;\n",
    "\n",
    "        self.R =np.zeros((self.n,));\n",
    "        self.L =np.zeros((self.n,));\n",
    "        self.reflection =np.zeros((self.n+1,));\n",
    "        self.newReflection = np.zeros((self.n+1,));\n",
    "        self.junctionOutputR = np.zeros((self.n+1,));\n",
    "        self.junctionOutputL = np.zeros((self.n+1,));\n",
    "        self.A = np.zeros((self.n,));\n",
    "        self.maxAmplitude = np.zeros((self.n,));\n",
    "\n",
    "\n",
    "        self.newReflectionLeft = self.newReflectionRight = self.newReflectionNose = 0;\n",
    "        self.calculateReflections();\n",
    "\n",
    "    def calculateReflections(self):\n",
    "        for i in range(self.n):\n",
    "            self.A[i] = self.diameter[i]*self.diameter[i]; #ignoring PI etc.\n",
    "        \n",
    "        for i in range(1,self.n):\n",
    "            self.reflection[i] = self.newReflection[i];\n",
    "            if (self.A[i] == 0):\n",
    "                self.newReflection[i] = 0.999; #to prevent some bad behaviour if 0\n",
    "            else:\n",
    "                self.newReflection[i] = (self.A[i-1]-self.A[i]) / (self.A[i-1]+self.A[i]);\n",
    "        \n",
    "\n",
    "#         now at junction with nose\n",
    "        self.reflectionLeft = self.newReflectionLeft;\n",
    "        self.reflectionRight = self.newReflectionRight;\n",
    "        self.reflectionNose = self.newReflectionNose;\n",
    "\n",
    "    def runStep(self,glottalOutput, turbulenceNoise=0,Lambda=0):\n",
    "        updateAmplitudes = (random()<0.1);\n",
    "        #mouth\n",
    "        self.processTransients();\n",
    "\n",
    "\n",
    "        self.junctionOutputR[0] = self.L[0] * self.glottalReflection + glottalOutput;\n",
    "        self.junctionOutputL[self.n] = self.R[self.n-1] * self.lipReflection;\n",
    "\n",
    "        for i in range(1,self.n):\n",
    "            r = self.reflection[i] * (1-Lambda) + self.newReflection[i]*Lambda;\n",
    "            w = r * (self.R[i-1] + self.L[i]);\n",
    "            self.junctionOutputR[i] = self.R[i-1] - w;\n",
    "            self.junctionOutputL[i] = self.L[i] + w;\n",
    "\n",
    "\n",
    "        for i in range(self.n):\n",
    "            self.R[i] = self.junctionOutputR[i]*0.999;\n",
    "            self.L[i] = self.junctionOutputL[i+1]*0.999;\n",
    "\n",
    "            #self.R[i] = np.clip(self.junctionOutputR[i] * self.fade, -1, 1);\n",
    "            #self.L[i] = np.clip(self.junctionOutputL[i+1] * self.fade, -1, 1);\n",
    "\n",
    "            if (updateAmplitudes):\n",
    "\n",
    "                amplitude = abs(self.R[i]+self.L[i]);\n",
    "                if (amplitude > self.maxAmplitude[i]):\n",
    "                    self.maxAmplitude[i] = amplitude;\n",
    "                else:\n",
    "                    self.maxAmplitude[i] *= 0.999;\n",
    "        \n",
    "\n",
    "        self.lipOutput = self.R[self.n-1];\n",
    "\n",
    "\n",
    "    def processTransients(self):\n",
    "        for i in range( len(self.transients)):\n",
    "            trans = self.transients[i];\n",
    "            amplitude = trans.strength * np.pow(2, -trans.exponent * trans.timeAlive);\n",
    "            self.R[trans.position] += amplitude/2;\n",
    "            self.L[trans.position] += amplitude/2;\n",
    "            trans.timeAlive += 1.0/(sampleRate*2);\n",
    "        for i in range( len(self.transients)-1,-1,-1):\n",
    "            trans = self.transients[i];\n",
    "            if (trans.timeAlive > trans.lifeTime):\n",
    "                self.transients.splice(i,1)\n",
    "    def addTurbulenceNoise(self,tubulenceNoise):\n",
    "\n",
    "#         for i in range(len(UI.touchesWithMouse)):\n",
    "#             touch = UI.touchesWithMouse[j];\n",
    "#             if (touch.index<2 or touch.index>Tract.n):\n",
    "#                 continue;\n",
    "#             if (touch.diameter<=0):\n",
    "#                 continue;\n",
    "#             if (intensity == 0):\n",
    "#                 continue\n",
    "    \n",
    "        intensity = self.fricative_intensity; \n",
    "        self.addTurbulenceNoiseAtIndex(0.66*turbulenceNoise*intensity, touch.index, touch.diameter)\n",
    "    def addTurbulenceNoiseAtIndex(self,turbulenceNoise, index, diamete):\n",
    "        i = math.floor(index);\n",
    "        delta = index - i;\n",
    "        turbulenceNoise *= Glottis.getNoiseModulator();\n",
    "        thinness0 = np.clip(8*(0.7-diameter),0,1);\n",
    "        openness = np.clip(30*(diameter-0.3), 0, 1);\n",
    "        noise0 = turbulenceNoise*(1-delta)*thinness0*openness;\n",
    "        noise1 = turbulenceNoise*delta*thinness0*openness;\n",
    "        self.R[i+1] += noise0/2;\n",
    "        self.L[i+1] += noise0/2;\n",
    "        self.R[i+2] += noise1/2;\n",
    "        self.L[i+2] += noise1/2;\n",
    "    def finishBlock(self):\n",
    "        self.calculateReflections();\n",
    "tr =  Tract()\n",
    "print('done')"
   ]
  },
  {
   "cell_type": "code",
   "execution_count": 9,
   "metadata": {},
   "outputs": [
    {
     "data": {
      "text/plain": [
       "array([0.36, 0.36, 0.36, 0.36, 0.36, 0.36, 0.36, 1.21, 1.21, 1.21, 1.21,\n",
       "       1.21, 2.25, 2.25, 2.25, 2.25, 2.25, 2.25, 2.25, 2.25, 2.25, 2.25,\n",
       "       2.25, 2.25, 2.25, 2.25, 2.25, 2.25, 2.25, 2.25, 2.25, 2.25, 2.25,\n",
       "       2.25, 2.25, 2.25, 2.25, 2.25, 2.25, 2.25, 2.25, 2.25, 2.25, 2.25])"
      ]
     },
     "execution_count": 9,
     "metadata": {},
     "output_type": "execute_result"
    }
   ],
   "source": [
    "tr.A"
   ]
  },
  {
   "cell_type": "code",
   "execution_count": 208,
   "metadata": {},
   "outputs": [
    {
     "name": "stdout",
     "output_type": "stream",
     "text": [
      "done\n"
     ]
    }
   ],
   "source": [
    "\n",
    "class AudioSystem():\n",
    "    def __init__(self):\n",
    "        self.blockLength = 512,\n",
    "        self.blockTime = 1,\n",
    "        self.started = False,\n",
    "        self.soundOn = False,\n",
    "        self.blockTime = self.blockLength[0]/float(sampleRate);\n",
    "        self.outArray = np.zeros(( self.blockLength[0],))\n",
    "    def doScriptProcessor(self):\n",
    "        inputArray1 = np.zeros(( self.blockLength[0],));\n",
    "        inputArray2 = np.zeros(( self.blockLength[0],));\n",
    "        \n",
    "        #inputArray2 = event.inputBuffer.getChannelData(1);\n",
    "        outArray = np.zeros((self.blockLength[0],))\n",
    "        for j in range(self.blockLength[0]):\n",
    "            lambda1 = j/self.blockLength[0];\n",
    "            lambda2 = (j+0.5)/self.blockLength[0];\n",
    "            glottalOutput = gt.runStep(lambda1, inputArray1[j]);\n",
    "            vocalOutput = 0;\n",
    "            \n",
    "            # Tract runs at twice the sample rate\n",
    "            tr.runStep(glottalOutput, inputArray2[j], lambda1);\n",
    "            vocalOutput += tr.lipOutput + tr.noseOutput;\n",
    "            \n",
    "            tr.runStep(glottalOutput, inputArray2[j], lambda2);\n",
    "            vocalOutput += tr.lipOutput + tr.noseOutput;\n",
    "            self.outArray[j] = vocalOutput * 0.125;\n",
    "\n",
    "#             self.outArray[j] = glottalOutput * 0.3;\n",
    "            \n",
    "            \n",
    "        gt.finishBlock(); \n",
    "        tr.finishBlock();\n",
    "    \n",
    "fuji = AudioSystem()\n",
    "print('done')"
   ]
  },
  {
   "cell_type": "code",
   "execution_count": 113,
   "metadata": {},
   "outputs": [
    {
     "data": {
      "text/plain": [
       "-0.016024467534046953"
      ]
     },
     "execution_count": 113,
     "metadata": {},
     "output_type": "execute_result"
    }
   ],
   "source": [
    " 0.01*np.random.normal( scale=1.0)+0.005*np.random.normal( scale=1.0)\n"
   ]
  },
  {
   "cell_type": "code",
   "execution_count": 76,
   "metadata": {},
   "outputs": [
    {
     "name": "stdout",
     "output_type": "stream",
     "text": [
      "-0.9804716159658536\n"
     ]
    }
   ],
   "source": [
    "print(np.random.normal( scale=1.0))"
   ]
  },
  {
   "cell_type": "code",
   "execution_count": 238,
   "metadata": {},
   "outputs": [
    {
     "data": {
      "application/vnd.jupyter.widget-view+json": {
       "model_id": "ea5f4a11d3774bd593d25140a0918277"
      }
     },
     "metadata": {},
     "output_type": "display_data"
    },
    {
     "name": "stdout",
     "output_type": "stream",
     "text": [
      "\n"
     ]
    },
    {
     "name": "stderr",
     "output_type": "stream",
     "text": [
      "Exception in thread Thread-33:\n",
      "Traceback (most recent call last):\n",
      "  File \"E:\\Anaconda\\lib\\threading.py\", line 916, in _bootstrap_inner\n",
      "    self.run()\n",
      "  File \"E:\\Anaconda\\lib\\site-packages\\tqdm\\_tqdm.py\", line 144, in run\n",
      "    for instance in self.tqdm_cls._instances:\n",
      "  File \"E:\\Anaconda\\lib\\_weakrefset.py\", line 60, in __iter__\n",
      "    for itemref in self.data:\n",
      "RuntimeError: Set changed size during iteration\n",
      "\n"
     ]
    },
    {
     "name": "stdout",
     "output_type": "stream",
     "text": [
      "\n"
     ]
    },
    {
     "data": {
      "image/png": "[encoded data removed]",
      "text/plain": [
       "<Figure size 432x288 with 1 Axes>"
      ]
     },
     "metadata": {},
     "output_type": "display_data"
    }
   ],
   "source": [
    "import time\n",
    "from tqdm import tqdm_notebook as tqdm\n",
    "n_block = 200\n",
    "all_w = np.zeros((n_block*512))\n",
    "\n",
    "for i in tqdm(range(n_block)):\n",
    "    fuji.doScriptProcessor()\n",
    "    all_w[i*512:(i+1)*512] =fuji.outArray\n",
    "#     print(tr.newReflection)\n",
    "\n",
    "try:\n",
    "    plt.plot(all_w[:2000])\n",
    "except:\n",
    "    plt.plot(all_w)\n",
    "plt.show()\n",
    "\n",
    "\n",
    "# print( tr.lipOutput ,tr.noseOutput)plt.plot(all_w[:2000])"
   ]
  },
  {
   "cell_type": "code",
   "execution_count": 239,
   "metadata": {},
   "outputs": [
    {
     "data": {
      "text/html": [
       "\n",
       "    <head>\n",
       "    <meta http-equiv=\"Content-Type\" content=\"text/html; charset=utf-8\">\n",
       "    <title>Simple Test</title>\n",
       "    </head>\n",
       "    \n",
       "    <body>\n",
       "    <audio controls=\"controls\" style=\"width:600px\" >\n",
       "      <source src=\"files/./v_pulse.wav\" type=\"audio/wav\" />\n",
       "      Your browser does not support the audio element.\n",
       "    </audio>\n",
       "    </body>\n",
       "    "
      ],
      "text/plain": [
       "<IPython.core.display.HTML object>"
      ]
     },
     "metadata": {},
     "output_type": "display_data"
    }
   ],
   "source": [
    "import soundfile as sf\n",
    "from util import my_util\n",
    "\n",
    "# sf.write('gt_pulse.wav', all_w, sampleRate)\n",
    "sf.write('v_pulse.wav', all_w, sampleRate)\n",
    "\n",
    "# my_util.wavPlayer('./gt_pulse.wav') # load a local WAV file\n",
    "my_util.wavPlayer('./v_pulse.wav') # load a local WAV file\n"
   ]
  },
  {
   "cell_type": "code",
   "execution_count": 60,
   "metadata": {},
   "outputs": [
    {
     "data": {
      "text/plain": [
       "0.9476409034989779"
      ]
     },
     "execution_count": 60,
     "metadata": {},
     "output_type": "execute_result"
    }
   ],
   "source": [
    "\n",
    "# tr.runStep(fuji.outArray)\n",
    "np.random.normal( scale=1.0)\n"
   ]
  },
  {
   "cell_type": "code",
   "execution_count": 120,
   "metadata": {},
   "outputs": [
    {
     "data": {
      "text/plain": [
       "1"
      ]
     },
     "execution_count": 120,
     "metadata": {},
     "output_type": "execute_result"
    }
   ],
   "source": [
    "k =  np.zeros((40,));\n",
    "min(1,2)"
   ]
  },
  {
   "cell_type": "code",
   "execution_count": 9,
   "metadata": {},
   "outputs": [
    {
     "name": "stdout",
     "output_type": "stream",
     "text": [
      "2\n",
      "3\n"
     ]
    }
   ],
   "source": [
    "class A:\n",
    "    def __init__(self):\n",
    "        self.foo = 2\n",
    "    def pName(self):\n",
    "        self.foo+=1\n",
    "ob_a = A();\n",
    "print(ob_a.foo)\n",
    "\n",
    "class B:\n",
    "    def __init__(self):\n",
    "        self.foo = 3\n",
    "    def pName(self):\n",
    "        ob_a.pName()\n",
    "\n",
    "ob_b = B();\n",
    "ob_b.pName()\n",
    "print(ob_a.foo)\n"
   ]
  }
 ],
 "metadata": {
  "kernelspec": {
   "display_name": "Python 3",
   "language": "python",
   "name": "python3"
  },
  "language_info": {
   "codemirror_mode": {
    "name": "ipython",
    "version": 3
   },
   "file_extension": ".py",
   "mimetype": "text/x-python",
   "name": "python",
   "nbconvert_exporter": "python",
   "pygments_lexer": "ipython3",
   "version": "3.6.1"
  }
 },
 "nbformat": 4,
 "nbformat_minor": 2
}
